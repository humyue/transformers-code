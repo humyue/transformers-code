{
 "cells": [
  {
   "cell_type": "markdown",
   "metadata": {},
   "source": [
    "## 文本分类实例"
   ]
  },
  {
   "cell_type": "markdown",
   "metadata": {},
   "source": [
    "### Step1 导入相关包"
   ]
  },
  {
   "cell_type": "code",
   "execution_count": 30,
   "metadata": {},
   "outputs": [],
   "source": [
    "from transformers import AutoTokenizer, AutoModelForSequenceClassification"
   ]
  },
  {
   "cell_type": "markdown",
   "metadata": {},
   "source": [
    "### Step2 加载数据"
   ]
  },
  {
   "cell_type": "code",
   "execution_count": 3,
   "metadata": {},
   "outputs": [
    {
     "data": {
      "text/html": [
       "<div>\n",
       "<style scoped>\n",
       "    .dataframe tbody tr th:only-of-type {\n",
       "        vertical-align: middle;\n",
       "    }\n",
       "\n",
       "    .dataframe tbody tr th {\n",
       "        vertical-align: top;\n",
       "    }\n",
       "\n",
       "    .dataframe thead th {\n",
       "        text-align: right;\n",
       "    }\n",
       "</style>\n",
       "<table border=\"1\" class=\"dataframe\">\n",
       "  <thead>\n",
       "    <tr style=\"text-align: right;\">\n",
       "      <th></th>\n",
       "      <th>label</th>\n",
       "      <th>review</th>\n",
       "    </tr>\n",
       "  </thead>\n",
       "  <tbody>\n",
       "    <tr>\n",
       "      <th>0</th>\n",
       "      <td>1</td>\n",
       "      <td>距离川沙公路较近,但是公交指示不对,如果是\"蔡陆线\"的话,会非常麻烦.建议用别的路线.房间较...</td>\n",
       "    </tr>\n",
       "    <tr>\n",
       "      <th>1</th>\n",
       "      <td>1</td>\n",
       "      <td>商务大床房，房间很大，床有2M宽，整体感觉经济实惠不错!</td>\n",
       "    </tr>\n",
       "    <tr>\n",
       "      <th>2</th>\n",
       "      <td>1</td>\n",
       "      <td>早餐太差，无论去多少人，那边也不加食品的。酒店应该重视一下这个问题了。房间本身很好。</td>\n",
       "    </tr>\n",
       "    <tr>\n",
       "      <th>3</th>\n",
       "      <td>1</td>\n",
       "      <td>宾馆在小街道上，不大好找，但还好北京热心同胞很多~宾馆设施跟介绍的差不多，房间很小，确实挺小...</td>\n",
       "    </tr>\n",
       "    <tr>\n",
       "      <th>4</th>\n",
       "      <td>1</td>\n",
       "      <td>CBD中心,周围没什么店铺,说5星有点勉强.不知道为什么卫生间没有电吹风</td>\n",
       "    </tr>\n",
       "    <tr>\n",
       "      <th>...</th>\n",
       "      <td>...</td>\n",
       "      <td>...</td>\n",
       "    </tr>\n",
       "    <tr>\n",
       "      <th>7761</th>\n",
       "      <td>0</td>\n",
       "      <td>尼斯酒店的几大特点：噪音大、环境差、配置低、服务效率低。如：1、隔壁歌厅的声音闹至午夜3点许...</td>\n",
       "    </tr>\n",
       "    <tr>\n",
       "      <th>7762</th>\n",
       "      <td>0</td>\n",
       "      <td>盐城来了很多次，第一次住盐阜宾馆，我的确很失望整个墙壁黑咕隆咚的，好像被烟熏过一样家具非常的...</td>\n",
       "    </tr>\n",
       "    <tr>\n",
       "      <th>7763</th>\n",
       "      <td>0</td>\n",
       "      <td>看照片觉得还挺不错的，又是4星级的，但入住以后除了后悔没有别的，房间挺大但空空的，早餐是有但...</td>\n",
       "    </tr>\n",
       "    <tr>\n",
       "      <th>7764</th>\n",
       "      <td>0</td>\n",
       "      <td>我们去盐城的时候那里的最低气温只有4度，晚上冷得要死，居然还不开空调，投诉到酒店客房部，得到...</td>\n",
       "    </tr>\n",
       "    <tr>\n",
       "      <th>7765</th>\n",
       "      <td>0</td>\n",
       "      <td>说实在的我很失望，之前看了其他人的点评后觉得还可以才去的，结果让我们大跌眼镜。我想这家酒店以...</td>\n",
       "    </tr>\n",
       "  </tbody>\n",
       "</table>\n",
       "<p>7766 rows × 2 columns</p>\n",
       "</div>"
      ],
      "text/plain": [
       "      label                                             review\n",
       "0         1  距离川沙公路较近,但是公交指示不对,如果是\"蔡陆线\"的话,会非常麻烦.建议用别的路线.房间较...\n",
       "1         1                       商务大床房，房间很大，床有2M宽，整体感觉经济实惠不错!\n",
       "2         1         早餐太差，无论去多少人，那边也不加食品的。酒店应该重视一下这个问题了。房间本身很好。\n",
       "3         1  宾馆在小街道上，不大好找，但还好北京热心同胞很多~宾馆设施跟介绍的差不多，房间很小，确实挺小...\n",
       "4         1               CBD中心,周围没什么店铺,说5星有点勉强.不知道为什么卫生间没有电吹风\n",
       "...     ...                                                ...\n",
       "7761      0  尼斯酒店的几大特点：噪音大、环境差、配置低、服务效率低。如：1、隔壁歌厅的声音闹至午夜3点许...\n",
       "7762      0  盐城来了很多次，第一次住盐阜宾馆，我的确很失望整个墙壁黑咕隆咚的，好像被烟熏过一样家具非常的...\n",
       "7763      0  看照片觉得还挺不错的，又是4星级的，但入住以后除了后悔没有别的，房间挺大但空空的，早餐是有但...\n",
       "7764      0  我们去盐城的时候那里的最低气温只有4度，晚上冷得要死，居然还不开空调，投诉到酒店客房部，得到...\n",
       "7765      0  说实在的我很失望，之前看了其他人的点评后觉得还可以才去的，结果让我们大跌眼镜。我想这家酒店以...\n",
       "\n",
       "[7766 rows x 2 columns]"
      ]
     },
     "execution_count": 3,
     "metadata": {},
     "output_type": "execute_result"
    }
   ],
   "source": [
    "import pandas as pd\n",
    "data = pd.read_csv(\"./ChnSentiCorp_htl_all.csv\")\n",
    "data"
   ]
  },
  {
   "cell_type": "code",
   "execution_count": 4,
   "metadata": {},
   "outputs": [
    {
     "data": {
      "text/html": [
       "<div>\n",
       "<style scoped>\n",
       "    .dataframe tbody tr th:only-of-type {\n",
       "        vertical-align: middle;\n",
       "    }\n",
       "\n",
       "    .dataframe tbody tr th {\n",
       "        vertical-align: top;\n",
       "    }\n",
       "\n",
       "    .dataframe thead th {\n",
       "        text-align: right;\n",
       "    }\n",
       "</style>\n",
       "<table border=\"1\" class=\"dataframe\">\n",
       "  <thead>\n",
       "    <tr style=\"text-align: right;\">\n",
       "      <th></th>\n",
       "      <th>label</th>\n",
       "      <th>review</th>\n",
       "    </tr>\n",
       "  </thead>\n",
       "  <tbody>\n",
       "    <tr>\n",
       "      <th>0</th>\n",
       "      <td>1</td>\n",
       "      <td>距离川沙公路较近,但是公交指示不对,如果是\"蔡陆线\"的话,会非常麻烦.建议用别的路线.房间较...</td>\n",
       "    </tr>\n",
       "    <tr>\n",
       "      <th>1</th>\n",
       "      <td>1</td>\n",
       "      <td>商务大床房，房间很大，床有2M宽，整体感觉经济实惠不错!</td>\n",
       "    </tr>\n",
       "    <tr>\n",
       "      <th>2</th>\n",
       "      <td>1</td>\n",
       "      <td>早餐太差，无论去多少人，那边也不加食品的。酒店应该重视一下这个问题了。房间本身很好。</td>\n",
       "    </tr>\n",
       "    <tr>\n",
       "      <th>3</th>\n",
       "      <td>1</td>\n",
       "      <td>宾馆在小街道上，不大好找，但还好北京热心同胞很多~宾馆设施跟介绍的差不多，房间很小，确实挺小...</td>\n",
       "    </tr>\n",
       "    <tr>\n",
       "      <th>4</th>\n",
       "      <td>1</td>\n",
       "      <td>CBD中心,周围没什么店铺,说5星有点勉强.不知道为什么卫生间没有电吹风</td>\n",
       "    </tr>\n",
       "    <tr>\n",
       "      <th>...</th>\n",
       "      <td>...</td>\n",
       "      <td>...</td>\n",
       "    </tr>\n",
       "    <tr>\n",
       "      <th>7761</th>\n",
       "      <td>0</td>\n",
       "      <td>尼斯酒店的几大特点：噪音大、环境差、配置低、服务效率低。如：1、隔壁歌厅的声音闹至午夜3点许...</td>\n",
       "    </tr>\n",
       "    <tr>\n",
       "      <th>7762</th>\n",
       "      <td>0</td>\n",
       "      <td>盐城来了很多次，第一次住盐阜宾馆，我的确很失望整个墙壁黑咕隆咚的，好像被烟熏过一样家具非常的...</td>\n",
       "    </tr>\n",
       "    <tr>\n",
       "      <th>7763</th>\n",
       "      <td>0</td>\n",
       "      <td>看照片觉得还挺不错的，又是4星级的，但入住以后除了后悔没有别的，房间挺大但空空的，早餐是有但...</td>\n",
       "    </tr>\n",
       "    <tr>\n",
       "      <th>7764</th>\n",
       "      <td>0</td>\n",
       "      <td>我们去盐城的时候那里的最低气温只有4度，晚上冷得要死，居然还不开空调，投诉到酒店客房部，得到...</td>\n",
       "    </tr>\n",
       "    <tr>\n",
       "      <th>7765</th>\n",
       "      <td>0</td>\n",
       "      <td>说实在的我很失望，之前看了其他人的点评后觉得还可以才去的，结果让我们大跌眼镜。我想这家酒店以...</td>\n",
       "    </tr>\n",
       "  </tbody>\n",
       "</table>\n",
       "<p>7765 rows × 2 columns</p>\n",
       "</div>"
      ],
      "text/plain": [
       "      label                                             review\n",
       "0         1  距离川沙公路较近,但是公交指示不对,如果是\"蔡陆线\"的话,会非常麻烦.建议用别的路线.房间较...\n",
       "1         1                       商务大床房，房间很大，床有2M宽，整体感觉经济实惠不错!\n",
       "2         1         早餐太差，无论去多少人，那边也不加食品的。酒店应该重视一下这个问题了。房间本身很好。\n",
       "3         1  宾馆在小街道上，不大好找，但还好北京热心同胞很多~宾馆设施跟介绍的差不多，房间很小，确实挺小...\n",
       "4         1               CBD中心,周围没什么店铺,说5星有点勉强.不知道为什么卫生间没有电吹风\n",
       "...     ...                                                ...\n",
       "7761      0  尼斯酒店的几大特点：噪音大、环境差、配置低、服务效率低。如：1、隔壁歌厅的声音闹至午夜3点许...\n",
       "7762      0  盐城来了很多次，第一次住盐阜宾馆，我的确很失望整个墙壁黑咕隆咚的，好像被烟熏过一样家具非常的...\n",
       "7763      0  看照片觉得还挺不错的，又是4星级的，但入住以后除了后悔没有别的，房间挺大但空空的，早餐是有但...\n",
       "7764      0  我们去盐城的时候那里的最低气温只有4度，晚上冷得要死，居然还不开空调，投诉到酒店客房部，得到...\n",
       "7765      0  说实在的我很失望，之前看了其他人的点评后觉得还可以才去的，结果让我们大跌眼镜。我想这家酒店以...\n",
       "\n",
       "[7765 rows x 2 columns]"
      ]
     },
     "execution_count": 4,
     "metadata": {},
     "output_type": "execute_result"
    }
   ],
   "source": [
    "data = data.dropna()\n",
    "data"
   ]
  },
  {
   "cell_type": "markdown",
   "metadata": {},
   "source": [
    "### Step3 创建DataSet"
   ]
  },
  {
   "cell_type": "code",
   "execution_count": 5,
   "metadata": {},
   "outputs": [],
   "source": [
    "from torch.utils.data import Dataset"
   ]
  },
  {
   "cell_type": "code",
   "execution_count": 6,
   "metadata": {},
   "outputs": [],
   "source": [
    "class MyDataset(Dataset):\n",
    "    def __init__(self) -> None:\n",
    "        super().__init__()\n",
    "        self.data = pd.read_csv(\"./ChnSentiCorp_htl_all.csv\")\n",
    "        self.data = self.data.dropna()\n",
    "    \n",
    "    def __getitem__(self, index):\n",
    "        return self.data.iloc[index][\"review\"], self.data.iloc[index][\"label\"]\n",
    "    \n",
    "    def __len__(self):\n",
    "        return len(self.data)"
   ]
  },
  {
   "cell_type": "code",
   "execution_count": 15,
   "metadata": {},
   "outputs": [
    {
     "name": "stdout",
     "output_type": "stream",
     "text": [
      "('距离川沙公路较近,但是公交指示不对,如果是\"蔡陆线\"的话,会非常麻烦.建议用别的路线.房间较为简单.', 1)\n",
      "('商务大床房，房间很大，床有2M宽，整体感觉经济实惠不错!', 1)\n",
      "('早餐太差，无论去多少人，那边也不加食品的。酒店应该重视一下这个问题了。房间本身很好。', 1)\n",
      "('宾馆在小街道上，不大好找，但还好北京热心同胞很多~宾馆设施跟介绍的差不多，房间很小，确实挺小，但加上低价位因素，还是无超所值的；环境不错，就在小胡同内，安静整洁，暖气好足-_-||。。。呵还有一大优势就是从宾馆出发，步行不到十分钟就可以到梅兰芳故居等等，京味小胡同，北海距离好近呢。总之，不错。推荐给节约消费的自助游朋友~比较划算，附近特色小吃很多~', 1)\n",
      "('CBD中心,周围没什么店铺,说5星有点勉强.不知道为什么卫生间没有电吹风', 1)\n"
     ]
    }
   ],
   "source": [
    "dataset = MyDataset()\n",
    "for i in range(5):\n",
    "    print(dataset[i])"
   ]
  },
  {
   "cell_type": "markdown",
   "metadata": {},
   "source": [
    "### Step4 划分数据集"
   ]
  },
  {
   "cell_type": "code",
   "execution_count": 16,
   "metadata": {},
   "outputs": [],
   "source": [
    "from torch.utils.data import random_split"
   ]
  },
  {
   "cell_type": "code",
   "execution_count": 17,
   "metadata": {},
   "outputs": [],
   "source": [
    "trainset,validset = random_split(dataset,lengths=[0.9,0.1])"
   ]
  },
  {
   "cell_type": "code",
   "execution_count": 18,
   "metadata": {},
   "outputs": [
    {
     "data": {
      "text/plain": [
       "(6989, 776)"
      ]
     },
     "execution_count": 18,
     "metadata": {},
     "output_type": "execute_result"
    }
   ],
   "source": [
    "len(trainset),len(validset)"
   ]
  },
  {
   "cell_type": "code",
   "execution_count": 19,
   "metadata": {},
   "outputs": [
    {
     "name": "stdout",
     "output_type": "stream",
     "text": [
      "('房间不错，尤其是床一张大一张小，适合三口之家入住。服务台的小姐很热情，自助餐也不错，就性价比而言还可以。', 1) ('环境还是挺不错的，工作人员也比较热情，晚上保安巡逻发现窗户没关还电话提醒我们，赞一个！早餐略显一般！酒店门口就是峨眉特色小吃！离旅游车站非常近，线路方便！房间设施虽达不到四星的标准，但在景区也还不错了。可以推荐！', 1)\n",
      "('实惠，位置也可，设施好，物有所值。推荐。', 1) ('很好的酒店，为我司尊贵客户预订，周末入住行政楼层，28楼行政楼层落地窗户，朝南房间视野很好，可以俯瞰延安西路高架，由于是顶层，高架的隔音也很好！硬件设施很好，符合四星级标准！美中不足是行政楼层房间有些狭小，空间略显不足！另外，还有一点就是隔音不是很好，我们入住的客户有严重失眠，常被门外的脚步声和喧哗声惊醒！有待改进！总之非常值得推荐入住！', 1)\n",
      "('酒店还好吧，就是一楼的中餐馆上菜速度暴慢。房间里面有电脑，比较方便一些。', 1) ('不错的酒店,女儿很喜欢,尤其是室外游泳池,很对小孩子的胃口补充点评2008年8月11日：我定的旅游套餐包括送早餐,早餐是来了米老鼠,唐老鸭和高飞狗,相当不错.不过,正如前面一位同仁所说,他们对老外的小孩却实特别热情,不能比...', 1)\n",
      "('酒店里的工作人员很热情大方、每次走过，工作人员都会投上微笑并说您好，让人心情不错。', 1) ('服务态度很差，房间很破旧，居然还是4星！！！看电视的时候千万要小心，很容易会按错遥控器上的按钮，有很多收费电视，按一下按钮就确认收费了！', 0)\n",
      "('4月12日住了一天，感觉还可以。是先前住在政协宾馆的，设施太差了，卫生条件也不好，才换到国贸来的。但是价格也有差距啊，政协420国贸820', 1) ('看到众网友的评论，带着忐忑的心情入住了此酒店，入住后，我想客观的为它平反一下，让好的东西大家一起分享：）嘉峪关是个很小的城市，这家酒店大概是这个城市最好的酒店了。最令我满意的酒店的免费接机服务，毕竟来到一个相对陌生的环境，能有人接待让人有一种安全感。酒店的门童和服务员都很热情，嘉峪关相对于广东真的很冷，不过酒店很暖和。房间比较舒适，而且很干净，嘉峪关天气比较干燥，房间竟然配了加湿器，这一点比较人性化，充分考虑到了我们这些南方生活的人。关于早餐，我觉得很好呀，品种比较多，楼上的说开到九点，可我那天去的九点多了，还有的吃哦。看到楼上的数落，我禁不住为它说几句，嘿嘿或许服务仍然有提高的空间，但勿庸置疑，这样的城市是没办法和北京上海这样的大城市比的，我想他们朴实的热情已经填补了他们硬件上些许的缺憾，毕竟西北大家都很清楚。如果再来这里我会选择在这里住，也会介绍我的朋友在这里，^_^，客观不客观，还是自己试试才知道的，这是我的经验^_^，如果去嘉峪关，记得吃羊肉串，挺不错的，还便宜，去城楼看看，蛮有意思，这是提外话了^_^', 1)\n",
      "('实在是差啊!!我当晚住的是双人房,三楼餐厅旁,一路的黑灯瞎火,还有一股味!!!', 0) ('位于过江后钱塘江大桥和钱江四桥之间，不出所料，环境很好，尤其是空气绝对清新，基本没有噪音，好安静！枕潮轩双号房间可以看到钱江，房间新装修过，早餐不错，种类很丰富，就是携程订的只有单早，自己付了100元（四人）。驾车自助游住宿比较合适。', 1)\n",
      "('房间还行，就是淋浴不好，水太慢了，希望改进一下', 1) ('三星级？夸张了，实在是夸张了！环境差，房间差，床！更差！！！服务？摇头，只能摇头！', 0)\n",
      "('比较老的饭店，房间等设施也比较老，服务还是可以的', 1) ('安静乾净价格公道窗外的景致不错如果你要安静的住宿环境可以选择它', 1)\n",
      "('日本人真的是超多,老酒店房间布局还可以，就是地毯怪味太多,房间空气不太好，窗户不好打开。服务还行，交通方便，去火车站、快轨、景点都很方便，就是在火车站旁边环境比较乱。房间价格稍贵，基本上还比较有竞争力。', 1) ('香格里拉３天游，住在这里，可能期望值较低，住后感觉很不错，在这样的地方来说，服务设施环境都可以算一流，藏式标间很有异域风情，可以床好硬，睡的不舒服艾，晚上很冷，要盖两条被子．早餐还算丰盛，不过没有牛奶，奶粉冲的．', 1)\n",
      "('总体来说是个性价比相当高的酒店，从酒店外表到房间设施都很不错，通过携程预订还送了很大一篮水果，感觉挺好。大堂大得离谱，空荡荡的，不知当初设计师怎么想的，太奇怪了。', 1) ('一切还行，就是对通过网络预订的房间为什么就不能灵活一点，半天房都是合情合理的啊，尤其是换住连锁酒店更应该提供方便。', 1)\n"
     ]
    }
   ],
   "source": [
    "for i in range(10):\n",
    "    print(trainset[i],validset[i])"
   ]
  },
  {
   "cell_type": "markdown",
   "metadata": {},
   "source": [
    "### Step5 创建Dataloader"
   ]
  },
  {
   "cell_type": "markdown",
   "metadata": {},
   "source": [
    "#### 未使用collate_func"
   ]
  },
  {
   "cell_type": "code",
   "execution_count": 24,
   "metadata": {},
   "outputs": [],
   "source": [
    "from torch.utils.data import DataLoader\n",
    "\n",
    "trainloader = DataLoader(trainset, batch_size=32, shuffle=True)\n",
    "validloader = DataLoader(validset, batch_size=64, shuffle=False)"
   ]
  },
  {
   "cell_type": "code",
   "execution_count": 28,
   "metadata": {},
   "outputs": [
    {
     "data": {
      "text/plain": [
       "[('地点很好，虽然偏闹了些。虽然没有早餐比较叫遗憾，好在成都是小吃的天堂而且尚能吃辣所以遗憾就少许多了',\n",
       "  '这家酒店不错,大堂很气派,服务很热情,下次还住这里',\n",
       "  '宾馆背面就是省道,交通是方便的,停车场很大也很方便,但晚上尤其半夜路过的汽车声音很响,拖拉机的声音平均15分钟出现一次,影响休息.建议要入住此宾馆的朋友一定要选南面的房间,这样可以远离点噪音.',\n",
       "  '酒店一般，唯一就是距离机场近，有免费班车，没有特别印象。',\n",
       "  '服务和早餐都超好对小孩也特别照顾早餐时特别关心房间环境也不错值得推荐',\n",
       "  '该酒店根本就达不到星级标准,是当地工商局办的,估计就是原来的招待所,前天晚上我刚住了一晚,室外-3度,室内温度不会超过10度,更晕的是晚上12点空调关闭,网速很慢,按当地的消费水平,标准间最多就是120元的水平,可携程的预定价是180元,不值!早餐很差!',\n",
       "  '就住了两天，第一天晚上就发现了一只大小强。第二天下午回来让服务员喷了药，早上起来发现了一只殉职的小小强。早餐没有牛奶，勉强可以吃几片廉价的面包，喝点豆浆，冲的果珍，白粥。别的反正我都不感兴趣。房间临街，晚上剧吵，幸好俺睡得比较死。',\n",
       "  '出差入住的酒店,订了个三人间.房间没空调,冷得要死,而且被子很潮.火车站旁,步行可到.据说当地的第一名金钥匙是这家',\n",
       "  '早餐不错，品种多样。房间还算干净，就是退房比较慢。',\n",
       "  '服务质量不好,四星级的酒店,连矿泉水都没用,还得自己出钱买!',\n",
       "  '酒店的整体服务意识相当好，从办理登记入住、用餐、退房等方面都是五星级的服务。入住当晚我们想外出品尝当地特色菜，随意咨询到酒店前台员工，他们主动给我们介绍，最后还利用下班时间陪同我们外出，给我们特别深刻的印象，以后出差，我还会选择富盈酒店。',\n",
       "  '地理位置客房状况都不错。前台服务需要加强，缺乏灵活性，不能从客人的角度来思考问题。没有接触其他的服务，可能整体的软环境都存在较大的提升空间。',\n",
       "  '自3月12号住进包头鞍山店,心里感觉很失望!房间环境还行,就是窗户不透气,服务质量很差,餐厅菜的品种少并价格贵,最可恨的是欺骗顾客,房间未有热水,不与顾客讲明,跟前台及服务员说了多次,未能处理,自入店以来洗脸洗脚用的都是凉水,天气又冷实在是受不了,直到17号,才通知顾客换房.真是无奈.....',\n",
       "  '性价比高，服务挺好，有房可延迟退房，对于坐晚班飞机离港的游客是非常有利的．只是希望早餐收费可以和CTRIP一样，80元的自助餐还是有吸引力的．另，打的到广九东铁太贵，建议打到金钟坐地铁．',\n",
       "  '地理位置还可以，在西湖边上，附近有一些大排挡，饮食也比较方便。酒店服务很好，服务生和前台人员都很热情，房间大而整洁，价格性价比高，如果下次去西湖还会入住。',\n",
       "  '环境不错，房间设施挺好，很有档次，下次还会考虑入住',\n",
       "  '一个字,烂,二个字,特烂,三个字,特别烂.这样的宾馆四星级?请携程别为了回扣向我们推荐垃圾宾馆.',\n",
       "  '我是一周前预订的，但到酒店后，却被告知没有收到携程的通知，所有人在交涉了整个晚上后最终我们自己解决了住宿问题，我觉得是因为当时去的人比较多，这家酒店就在死赖不给我们房间，以便他们自己卖得太贵。整个过程携程的服务也特别慢。这个酒店的房间也很差。',\n",
       "  '第二次入住这个酒店了，服务很好，让客人感到很舒服，很满意。',\n",
       "  '说是4星的，居然没有设置无烟房，实在是无语。宾馆反馈2008年4月28日：尊敬的宾客，非常感谢您入住七星商务酒店！本酒店10楼为无烟楼层客房，楼层及客房均设有明显无烟楼层标志。我们诚挚地期待您下次光临我们酒店，我们将尽量满足您的订房需求。',\n",
       "  '到达后前台看了我手机上的预定确认的短信，又翻查了一些FAX，仍说没有接到过携程预定通知，直到我用手机打了携程电话要服务员接听才得到房间。不知问题出在哪里？酒店在十字路口，入夜都非常嘈杂，主要是汽车长按喇叭的声音。若非出差需要（靠近客户），不会住这里。下次也争取不再入住。酒店设施一般，早餐7点开始，但到8点半都还没有多少可吃的，早退房的相当于没有早餐。',\n",
       "  '坐TAXI时问司机这家酒店怎么样\",老酒店,人气旺,服务好,众口皆碑.\"到酒店时感觉很温馨,我第一次来这家酒店,服务员都很热情,像认识我一样,出差这么久了,才有家的感觉!门童冒大雨去给我找车,回家时裤子都湿了,很让我感动.房间看得出,新装修过的,家私/床上用品也都是新的,可对出差已久的人来说,家的感觉是更重要的./',\n",
       "  '6月末到访苏州，下榻此店。感觉不错。房间虽小些，但实施齐全。晚上很安静。酒店的小庭院，有一古井，配些翠竹和绿植很有味道。出店行不远就是有名的观前街，散步购物都方便。',\n",
       "  '交通方便，对面就是国美电器。出入的车辆比较多，又刚好处于路口，所以有点混乱。5楼可以喝晚茶，估计因为这样，所以大堂里面进出的人比较多，显得有点嘈杂。电梯的配置不是很好！',\n",
       "  '我是8月1日入住该酒店的,来香港主要为了SHOPPING,所以从地点来讲,酒店算是在较偏的位置,但觉得对得起我订的价格HKD550元/晚.房间很干净,而且我所入住的半海景房真的能看到很宽阔的海景,感觉很不错,卫生间很阔落,非常舒服.唯一欠缺的就是电视机,安置在床的侧面,看起来不是很方便,不过还好啦,反正不是为了看电视.交通方面,我没有遇到多大问题,只是那天来回上环,中环,酒店很多回,觉得酒店确是离购物点远了点.一般来说我从酒店出门就是看准它提供的SHUTTLEBUS的时间出发到港铁站(即中环站)转乘,回来则是搭到上环再转电车(俗称叮叮).因为沿路都有海景,感觉很是挺惬意的．对于订房我还有一点要补充：就是一定要提早定啊，我是一直在比价才选了８月１日出发（当然那几天还是动漫节则更一举两得），后来我接近８／１再查看时，价格已经变成１千多了，酒店是海鲜价因此深有体会．',\n",
       "  '房间巨小，电视成了摆设，开不了，服务员态度冷漠。以后不会再进这家酒店',\n",
       "  '总算可以免费上网了～经过3年的营运，价格在不断攀升，硬件多少在退化，服务还是一如既往。呵呵，从性价比角度看有待商榷喽......补充点评2007年12月17日：房间内的温度是可以调节的，冬季里一般我都建议服务员给锁定在24度自动控制状态，没有那么干燥，感觉很舒服。',\n",
       "  '应该算是比较老的酒店了，但是整体的感觉不错，在三星的酒店中应该算是比较好的了，我住的是商务大床房，房间感觉还是挺宽敞的，早餐算是一般，不过前台的服务小姐确实很热心，感觉真的不错！！！顺便提一下，就是感觉房间的空调制冷效果好像不是很好，希望能改进一下！',\n",
       "  '从携程网上看到大家对海景花园的服务评价很高.我们于7月下旬到青岛避暑，特意入住该店。入住5天感同身受，果然名不虚传。可以说在我们住过的宾馆里服务是一流的。有几处尤其让我很感动。比如，西餐厅主管王杰和服务员金玉盛听说我有胃病，除了在进餐时照顾我，还给我拿来一些生花生米，说每天吃几个可以保护胃黏膜。我爱吃青菜，每次都单独给我炒一小盘。我们到青岛的那天下着雨，客户关系主任直接送我们进房间，在房间里办了入住手续。他在登记时看到我脚面上贴着膏药，很快让楼层服务员给我送来几张云南白药膏。后来蓝吧服务员也注意到我走路一瘸一拐，又给了一盒膏药。我贴后基本痊愈。我有慢性咽炎，进了空调房就咳嗽。大堂服务员马上给我取来金嗓子喉宝，蓝吧服务员又拿来咳嗽糖浆。我服用后很快见效。楼层服务员总是在我们外出后收拾房间，每次回来房间总是整整齐齐的，晚上还送来牛奶。这可是我们在外旅行从没有接受过的待遇。我们走进酒店，见到的员工都微笑打招呼，让人感到很亲切。我还注意到，酒店提供的早餐食品，给房间送的水果和小礼品，质量都比较好。所有这一切都说明酒店总经理管理有方，把这么多的员工培养得如此之好，让他们树立顾客至上理念，提供人性化服务，殷勤，热情，细致，周到，这是很不容易的。其实，作为五星级酒店，该店硬件并不很理想。但是。他们超一流的服务的确吸引了顾客。我们明年避暑还是首选青岛，到青岛住店当然还是首选海景花园.',\n",
       "  '我是九月份入住的，600多一晚，定的是普通标准简但前台主动免费升级到了15楼的海景房，态度好风景好。其实住在西环挺好的，电车和巴士方便便宜，上次我也住在附近的Ramada感觉挺好。缺点是房间有点旧、壁纸感觉不太干净。',\n",
       "  '去郑州好几次，都在这里住。有一次免升，住大堂左侧一层的房间。酒店很安静，服务也好。前台小姐虽然不漂亮但服务很到位。退房速度极快。下飞机来酒店时免费班车，退房后去机场要付费。下次来就住这里。',\n",
       "  '不错的酒店，大堂和餐厅的环境都不错。但由于给我的是一间走廊尽头的房间，所以房型看上去有点奇怪。客厅和卧室是连在一起的，面积偏小。服务还算到位，总的来说，性价比还是不错的。'),\n",
       " tensor([1, 1, 0, 0, 1, 0, 0, 0, 1, 0, 1, 1, 0, 1, 1, 1, 0, 0, 1, 0, 0, 1, 1, 1,\n",
       "         1, 0, 1, 1, 1, 1, 1, 1])]"
      ]
     },
     "execution_count": 28,
     "metadata": {},
     "output_type": "execute_result"
    }
   ],
   "source": [
    "next(enumerate(trainloader))[1]"
   ]
  },
  {
   "cell_type": "markdown",
   "metadata": {},
   "source": [
    "#### 使用collate_func"
   ]
  },
  {
   "cell_type": "code",
   "execution_count": 38,
   "metadata": {},
   "outputs": [],
   "source": [
    "import torch\n",
    "tokenizer = AutoTokenizer.from_pretrained(\"./rbt3\")\n",
    "\n",
    "def collate_func(batch):\n",
    "    texts,labels = [],[]\n",
    "    for item in batch:\n",
    "        texts.append(item[0])\n",
    "        labels.append(item[1])\n",
    "    inputs = tokenizer(texts,max_length=128,truncation=True,padding=\"max_length\",return_tensors=\"pt\")\n",
    "    inputs[\"labels\"] = torch.tensor(labels)\n",
    "    return inputs"
   ]
  },
  {
   "cell_type": "code",
   "execution_count": 39,
   "metadata": {},
   "outputs": [
    {
     "data": {
      "text/plain": [
       "{'input_ids': tensor([[ 101, 6983, 2421,  ..., 5632, 2346,  102],\n",
       "        [ 101, 2791, 7313,  ..., 6821, 1765,  102],\n",
       "        [ 101, 1765, 4415,  ...,    0,    0,    0],\n",
       "        ...,\n",
       "        [ 101, 2582,  720,  ...,    0,    0,    0],\n",
       "        [ 101,  671, 5663,  ...,    0,    0,    0],\n",
       "        [ 101,  855, 5390,  ...,    0,    0,    0]]), 'token_type_ids': tensor([[0, 0, 0,  ..., 0, 0, 0],\n",
       "        [0, 0, 0,  ..., 0, 0, 0],\n",
       "        [0, 0, 0,  ..., 0, 0, 0],\n",
       "        ...,\n",
       "        [0, 0, 0,  ..., 0, 0, 0],\n",
       "        [0, 0, 0,  ..., 0, 0, 0],\n",
       "        [0, 0, 0,  ..., 0, 0, 0]]), 'attention_mask': tensor([[1, 1, 1,  ..., 1, 1, 1],\n",
       "        [1, 1, 1,  ..., 1, 1, 1],\n",
       "        [1, 1, 1,  ..., 0, 0, 0],\n",
       "        ...,\n",
       "        [1, 1, 1,  ..., 0, 0, 0],\n",
       "        [1, 1, 1,  ..., 0, 0, 0],\n",
       "        [1, 1, 1,  ..., 0, 0, 0]]), 'labels': tensor([1, 1, 1, 0, 1, 1, 1, 0, 1, 1, 1, 1, 1, 1, 1, 0, 1, 1, 1, 1, 1, 1, 1, 0,\n",
       "        1, 1, 1, 1, 0, 0, 1, 1])}"
      ]
     },
     "execution_count": 39,
     "metadata": {},
     "output_type": "execute_result"
    }
   ],
   "source": [
    "trainloader = DataLoader(trainset, batch_size=32, shuffle=True, collate_fn=collate_func)\n",
    "validloader = DataLoader(validset, batch_size=64, shuffle=False, collate_fn=collate_func)\n",
    "next(enumerate(trainloader))[1]"
   ]
  },
  {
   "cell_type": "markdown",
   "metadata": {},
   "source": [
    "### Step6 创建模型及优化器"
   ]
  },
  {
   "cell_type": "code",
   "execution_count": 40,
   "metadata": {},
   "outputs": [
    {
     "name": "stderr",
     "output_type": "stream",
     "text": [
      "Some weights of BertForSequenceClassification were not initialized from the model checkpoint at rbt3 and are newly initialized: ['classifier.bias', 'classifier.weight']\n",
      "You should probably TRAIN this model on a down-stream task to be able to use it for predictions and inference.\n"
     ]
    }
   ],
   "source": [
    "from torch.optim import Adam\n",
    "model = AutoModelForSequenceClassification.from_pretrained(\"rbt3\")\n",
    "\n",
    "if torch.cuda.is_available():\n",
    "    model = model.cuda()"
   ]
  },
  {
   "cell_type": "code",
   "execution_count": 44,
   "metadata": {},
   "outputs": [],
   "source": [
    "optimizer = Adam(model.parameters(), lr=2e-5)"
   ]
  },
  {
   "cell_type": "markdown",
   "metadata": {},
   "source": [
    "### Step7 训练与验证"
   ]
  },
  {
   "cell_type": "code",
   "execution_count": 49,
   "metadata": {},
   "outputs": [],
   "source": [
    "def evaluate():\n",
    "    model.eval()\n",
    "    acc_num = 0\n",
    "    with torch.inference_mode():\n",
    "        for batch in validloader:\n",
    "            if torch.cuda.is_available():\n",
    "                batch = {k: v.cuda() for k, v in batch.items()}\n",
    "            output = model(**batch)\n",
    "            pred = torch.argmax(output.logits, dim=-1)\n",
    "            acc_num += (pred.long() == batch[\"labels\"].long()).float().sum()\n",
    "    return acc_num / len(validset)\n",
    "\n",
    "\n",
    "def train(epoch=3, log_step=100):\n",
    "    global_step = 0\n",
    "    for ep in range(epoch):\n",
    "        model.train()\n",
    "        for batch in trainloader:\n",
    "            if torch.cuda.is_available():\n",
    "                batch = {k: v.cuda() for k, v in batch.items()}\n",
    "            optimizer.zero_grad()\n",
    "            output = model(**batch)\n",
    "            output.loss.backward()\n",
    "            optimizer.step()\n",
    "            if global_step % log_step == 0:\n",
    "                print(f\"ep: {ep}, global_step: {global_step}, loss: {output.loss.item()}\")\n",
    "            global_step += 1\n",
    "        acc = evaluate()\n",
    "        print(f\"ep: {ep}, acc: {acc}\")"
   ]
  },
  {
   "cell_type": "code",
   "execution_count": 50,
   "metadata": {},
   "outputs": [
    {
     "name": "stderr",
     "output_type": "stream",
     "text": [
      "d:\\Anaconda3\\envs\\llm\\lib\\site-packages\\transformers\\models\\bert\\modeling_bert.py:439: UserWarning: 1Torch was not compiled with flash attention. (Triggered internally at ..\\aten\\src\\ATen\\native\\transformers\\cuda\\sdp_utils.cpp:455.)\n",
      "  attn_output = torch.nn.functional.scaled_dot_product_attention(\n"
     ]
    },
    {
     "name": "stdout",
     "output_type": "stream",
     "text": [
      "ep: 0, global_step: 0, loss: 0.6566935777664185\n",
      "ep: 0, global_step: 100, loss: 0.39207786321640015\n",
      "ep: 0, global_step: 200, loss: 0.255473792552948\n",
      "ep: 0, acc: 0.8917525410652161\n",
      "ep: 1, global_step: 300, loss: 0.1308319866657257\n",
      "ep: 1, global_step: 400, loss: 0.09422533214092255\n",
      "ep: 1, acc: 0.8994845151901245\n",
      "ep: 2, global_step: 500, loss: 0.33339324593544006\n",
      "ep: 2, global_step: 600, loss: 0.2502152919769287\n",
      "ep: 2, acc: 0.8969072103500366\n"
     ]
    }
   ],
   "source": [
    "train()"
   ]
  },
  {
   "cell_type": "markdown",
   "metadata": {},
   "source": [
    "### Step9 模型预测"
   ]
  },
  {
   "cell_type": "code",
   "execution_count": 64,
   "metadata": {},
   "outputs": [
    {
     "name": "stdout",
     "output_type": "stream",
     "text": [
      "输入：我觉得这家酒店不错，饭很好吃！\n",
      "模型预测结果:好评！\n",
      "Score:0.9874188303947449\n"
     ]
    }
   ],
   "source": [
    "sen = \"我觉得这家酒店不错，饭很好吃！\"\n",
    "id2_label = {0: \"差评！\", 1: \"好评！\"}\n",
    "model.eval()\n",
    "with torch.inference_mode():\n",
    "    inputs = tokenizer(sen, return_tensors=\"pt\")\n",
    "    inputs = {k: v.cuda() for k, v in inputs.items()}\n",
    "    logits = model(**inputs).logits\n",
    "    pred = torch.argmax(logits, dim=-1)\n",
    "    score = torch.softmax(logits, dim=-1)\n",
    "    print(f\"输入：{sen}\\n模型预测结果:{id2_label.get(pred.item())}\\nScore:{score[0][pred.item()]}\")"
   ]
  },
  {
   "cell_type": "code",
   "execution_count": 65,
   "metadata": {},
   "outputs": [],
   "source": [
    "from transformers import pipeline\n",
    "\n",
    "model.config.id2label = id2_label\n",
    "pipe = pipeline(\"text-classification\", model=model, tokenizer=tokenizer, device=0)"
   ]
  },
  {
   "cell_type": "code",
   "execution_count": 56,
   "metadata": {},
   "outputs": [
    {
     "data": {
      "text/plain": [
       "[{'label': '好评！', 'score': 0.9874188303947449}]"
      ]
     },
     "execution_count": 56,
     "metadata": {},
     "output_type": "execute_result"
    }
   ],
   "source": [
    "pipe(sen)"
   ]
  },
  {
   "cell_type": "code",
   "execution_count": null,
   "metadata": {},
   "outputs": [],
   "source": []
  }
 ],
 "metadata": {
  "kernelspec": {
   "display_name": "llm",
   "language": "python",
   "name": "python3"
  },
  "language_info": {
   "codemirror_mode": {
    "name": "ipython",
    "version": 3
   },
   "file_extension": ".py",
   "mimetype": "text/x-python",
   "name": "python",
   "nbconvert_exporter": "python",
   "pygments_lexer": "ipython3",
   "version": "3.10.14"
  }
 },
 "nbformat": 4,
 "nbformat_minor": 2
}
