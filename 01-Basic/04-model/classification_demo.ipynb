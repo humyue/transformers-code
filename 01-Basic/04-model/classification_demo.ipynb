{
 "cells": [
  {
   "cell_type": "markdown",
   "metadata": {},
   "source": [
    "## 文本分类实例"
   ]
  },
  {
   "cell_type": "markdown",
   "metadata": {},
   "source": [
    "### Step1 导入相关包"
   ]
  },
  {
   "cell_type": "code",
   "execution_count": 1,
   "metadata": {},
   "outputs": [],
   "source": [
    "from transformers import AutoTokenizer, AutoModelForSequenceClassification"
   ]
  },
  {
   "cell_type": "markdown",
   "metadata": {},
   "source": [
    "### Step2 加载数据"
   ]
  },
  {
   "cell_type": "code",
   "execution_count": 2,
   "metadata": {},
   "outputs": [
    {
     "data": {
      "text/html": [
       "<div>\n",
       "<style scoped>\n",
       "    .dataframe tbody tr th:only-of-type {\n",
       "        vertical-align: middle;\n",
       "    }\n",
       "\n",
       "    .dataframe tbody tr th {\n",
       "        vertical-align: top;\n",
       "    }\n",
       "\n",
       "    .dataframe thead th {\n",
       "        text-align: right;\n",
       "    }\n",
       "</style>\n",
       "<table border=\"1\" class=\"dataframe\">\n",
       "  <thead>\n",
       "    <tr style=\"text-align: right;\">\n",
       "      <th></th>\n",
       "      <th>label</th>\n",
       "      <th>review</th>\n",
       "    </tr>\n",
       "  </thead>\n",
       "  <tbody>\n",
       "    <tr>\n",
       "      <th>0</th>\n",
       "      <td>1</td>\n",
       "      <td>距离川沙公路较近,但是公交指示不对,如果是\"蔡陆线\"的话,会非常麻烦.建议用别的路线.房间较...</td>\n",
       "    </tr>\n",
       "    <tr>\n",
       "      <th>1</th>\n",
       "      <td>1</td>\n",
       "      <td>商务大床房，房间很大，床有2M宽，整体感觉经济实惠不错!</td>\n",
       "    </tr>\n",
       "    <tr>\n",
       "      <th>2</th>\n",
       "      <td>1</td>\n",
       "      <td>早餐太差，无论去多少人，那边也不加食品的。酒店应该重视一下这个问题了。房间本身很好。</td>\n",
       "    </tr>\n",
       "    <tr>\n",
       "      <th>3</th>\n",
       "      <td>1</td>\n",
       "      <td>宾馆在小街道上，不大好找，但还好北京热心同胞很多~宾馆设施跟介绍的差不多，房间很小，确实挺小...</td>\n",
       "    </tr>\n",
       "    <tr>\n",
       "      <th>4</th>\n",
       "      <td>1</td>\n",
       "      <td>CBD中心,周围没什么店铺,说5星有点勉强.不知道为什么卫生间没有电吹风</td>\n",
       "    </tr>\n",
       "    <tr>\n",
       "      <th>...</th>\n",
       "      <td>...</td>\n",
       "      <td>...</td>\n",
       "    </tr>\n",
       "    <tr>\n",
       "      <th>7761</th>\n",
       "      <td>0</td>\n",
       "      <td>尼斯酒店的几大特点：噪音大、环境差、配置低、服务效率低。如：1、隔壁歌厅的声音闹至午夜3点许...</td>\n",
       "    </tr>\n",
       "    <tr>\n",
       "      <th>7762</th>\n",
       "      <td>0</td>\n",
       "      <td>盐城来了很多次，第一次住盐阜宾馆，我的确很失望整个墙壁黑咕隆咚的，好像被烟熏过一样家具非常的...</td>\n",
       "    </tr>\n",
       "    <tr>\n",
       "      <th>7763</th>\n",
       "      <td>0</td>\n",
       "      <td>看照片觉得还挺不错的，又是4星级的，但入住以后除了后悔没有别的，房间挺大但空空的，早餐是有但...</td>\n",
       "    </tr>\n",
       "    <tr>\n",
       "      <th>7764</th>\n",
       "      <td>0</td>\n",
       "      <td>我们去盐城的时候那里的最低气温只有4度，晚上冷得要死，居然还不开空调，投诉到酒店客房部，得到...</td>\n",
       "    </tr>\n",
       "    <tr>\n",
       "      <th>7765</th>\n",
       "      <td>0</td>\n",
       "      <td>说实在的我很失望，之前看了其他人的点评后觉得还可以才去的，结果让我们大跌眼镜。我想这家酒店以...</td>\n",
       "    </tr>\n",
       "  </tbody>\n",
       "</table>\n",
       "<p>7766 rows × 2 columns</p>\n",
       "</div>"
      ],
      "text/plain": [
       "      label                                             review\n",
       "0         1  距离川沙公路较近,但是公交指示不对,如果是\"蔡陆线\"的话,会非常麻烦.建议用别的路线.房间较...\n",
       "1         1                       商务大床房，房间很大，床有2M宽，整体感觉经济实惠不错!\n",
       "2         1         早餐太差，无论去多少人，那边也不加食品的。酒店应该重视一下这个问题了。房间本身很好。\n",
       "3         1  宾馆在小街道上，不大好找，但还好北京热心同胞很多~宾馆设施跟介绍的差不多，房间很小，确实挺小...\n",
       "4         1               CBD中心,周围没什么店铺,说5星有点勉强.不知道为什么卫生间没有电吹风\n",
       "...     ...                                                ...\n",
       "7761      0  尼斯酒店的几大特点：噪音大、环境差、配置低、服务效率低。如：1、隔壁歌厅的声音闹至午夜3点许...\n",
       "7762      0  盐城来了很多次，第一次住盐阜宾馆，我的确很失望整个墙壁黑咕隆咚的，好像被烟熏过一样家具非常的...\n",
       "7763      0  看照片觉得还挺不错的，又是4星级的，但入住以后除了后悔没有别的，房间挺大但空空的，早餐是有但...\n",
       "7764      0  我们去盐城的时候那里的最低气温只有4度，晚上冷得要死，居然还不开空调，投诉到酒店客房部，得到...\n",
       "7765      0  说实在的我很失望，之前看了其他人的点评后觉得还可以才去的，结果让我们大跌眼镜。我想这家酒店以...\n",
       "\n",
       "[7766 rows x 2 columns]"
      ]
     },
     "execution_count": 2,
     "metadata": {},
     "output_type": "execute_result"
    }
   ],
   "source": [
    "import pandas as pd\n",
    "data = pd.read_csv(\"./ChnSentiCorp_htl_all.csv\")\n",
    "data"
   ]
  },
  {
   "cell_type": "code",
   "execution_count": 3,
   "metadata": {},
   "outputs": [
    {
     "data": {
      "text/html": [
       "<div>\n",
       "<style scoped>\n",
       "    .dataframe tbody tr th:only-of-type {\n",
       "        vertical-align: middle;\n",
       "    }\n",
       "\n",
       "    .dataframe tbody tr th {\n",
       "        vertical-align: top;\n",
       "    }\n",
       "\n",
       "    .dataframe thead th {\n",
       "        text-align: right;\n",
       "    }\n",
       "</style>\n",
       "<table border=\"1\" class=\"dataframe\">\n",
       "  <thead>\n",
       "    <tr style=\"text-align: right;\">\n",
       "      <th></th>\n",
       "      <th>label</th>\n",
       "      <th>review</th>\n",
       "    </tr>\n",
       "  </thead>\n",
       "  <tbody>\n",
       "    <tr>\n",
       "      <th>0</th>\n",
       "      <td>1</td>\n",
       "      <td>距离川沙公路较近,但是公交指示不对,如果是\"蔡陆线\"的话,会非常麻烦.建议用别的路线.房间较...</td>\n",
       "    </tr>\n",
       "    <tr>\n",
       "      <th>1</th>\n",
       "      <td>1</td>\n",
       "      <td>商务大床房，房间很大，床有2M宽，整体感觉经济实惠不错!</td>\n",
       "    </tr>\n",
       "    <tr>\n",
       "      <th>2</th>\n",
       "      <td>1</td>\n",
       "      <td>早餐太差，无论去多少人，那边也不加食品的。酒店应该重视一下这个问题了。房间本身很好。</td>\n",
       "    </tr>\n",
       "    <tr>\n",
       "      <th>3</th>\n",
       "      <td>1</td>\n",
       "      <td>宾馆在小街道上，不大好找，但还好北京热心同胞很多~宾馆设施跟介绍的差不多，房间很小，确实挺小...</td>\n",
       "    </tr>\n",
       "    <tr>\n",
       "      <th>4</th>\n",
       "      <td>1</td>\n",
       "      <td>CBD中心,周围没什么店铺,说5星有点勉强.不知道为什么卫生间没有电吹风</td>\n",
       "    </tr>\n",
       "    <tr>\n",
       "      <th>...</th>\n",
       "      <td>...</td>\n",
       "      <td>...</td>\n",
       "    </tr>\n",
       "    <tr>\n",
       "      <th>7761</th>\n",
       "      <td>0</td>\n",
       "      <td>尼斯酒店的几大特点：噪音大、环境差、配置低、服务效率低。如：1、隔壁歌厅的声音闹至午夜3点许...</td>\n",
       "    </tr>\n",
       "    <tr>\n",
       "      <th>7762</th>\n",
       "      <td>0</td>\n",
       "      <td>盐城来了很多次，第一次住盐阜宾馆，我的确很失望整个墙壁黑咕隆咚的，好像被烟熏过一样家具非常的...</td>\n",
       "    </tr>\n",
       "    <tr>\n",
       "      <th>7763</th>\n",
       "      <td>0</td>\n",
       "      <td>看照片觉得还挺不错的，又是4星级的，但入住以后除了后悔没有别的，房间挺大但空空的，早餐是有但...</td>\n",
       "    </tr>\n",
       "    <tr>\n",
       "      <th>7764</th>\n",
       "      <td>0</td>\n",
       "      <td>我们去盐城的时候那里的最低气温只有4度，晚上冷得要死，居然还不开空调，投诉到酒店客房部，得到...</td>\n",
       "    </tr>\n",
       "    <tr>\n",
       "      <th>7765</th>\n",
       "      <td>0</td>\n",
       "      <td>说实在的我很失望，之前看了其他人的点评后觉得还可以才去的，结果让我们大跌眼镜。我想这家酒店以...</td>\n",
       "    </tr>\n",
       "  </tbody>\n",
       "</table>\n",
       "<p>7765 rows × 2 columns</p>\n",
       "</div>"
      ],
      "text/plain": [
       "      label                                             review\n",
       "0         1  距离川沙公路较近,但是公交指示不对,如果是\"蔡陆线\"的话,会非常麻烦.建议用别的路线.房间较...\n",
       "1         1                       商务大床房，房间很大，床有2M宽，整体感觉经济实惠不错!\n",
       "2         1         早餐太差，无论去多少人，那边也不加食品的。酒店应该重视一下这个问题了。房间本身很好。\n",
       "3         1  宾馆在小街道上，不大好找，但还好北京热心同胞很多~宾馆设施跟介绍的差不多，房间很小，确实挺小...\n",
       "4         1               CBD中心,周围没什么店铺,说5星有点勉强.不知道为什么卫生间没有电吹风\n",
       "...     ...                                                ...\n",
       "7761      0  尼斯酒店的几大特点：噪音大、环境差、配置低、服务效率低。如：1、隔壁歌厅的声音闹至午夜3点许...\n",
       "7762      0  盐城来了很多次，第一次住盐阜宾馆，我的确很失望整个墙壁黑咕隆咚的，好像被烟熏过一样家具非常的...\n",
       "7763      0  看照片觉得还挺不错的，又是4星级的，但入住以后除了后悔没有别的，房间挺大但空空的，早餐是有但...\n",
       "7764      0  我们去盐城的时候那里的最低气温只有4度，晚上冷得要死，居然还不开空调，投诉到酒店客房部，得到...\n",
       "7765      0  说实在的我很失望，之前看了其他人的点评后觉得还可以才去的，结果让我们大跌眼镜。我想这家酒店以...\n",
       "\n",
       "[7765 rows x 2 columns]"
      ]
     },
     "execution_count": 3,
     "metadata": {},
     "output_type": "execute_result"
    }
   ],
   "source": [
    "data = data.dropna()\n",
    "data"
   ]
  },
  {
   "cell_type": "markdown",
   "metadata": {},
   "source": [
    "### Step3 创建DataSet"
   ]
  },
  {
   "cell_type": "code",
   "execution_count": 4,
   "metadata": {},
   "outputs": [],
   "source": [
    "from torch.utils.data import Dataset"
   ]
  },
  {
   "cell_type": "code",
   "execution_count": 5,
   "metadata": {},
   "outputs": [],
   "source": [
    "class MyDataset(Dataset):\n",
    "    def __init__(self) -> None:\n",
    "        super().__init__()\n",
    "        self.data = pd.read_csv(\"./ChnSentiCorp_htl_all.csv\")\n",
    "        self.data = self.data.dropna()\n",
    "    \n",
    "    def __getitem__(self, index):\n",
    "        return self.data.iloc[index][\"review\"], self.data.iloc[index][\"label\"]\n",
    "    \n",
    "    def __len__(self):\n",
    "        return len(self.data)"
   ]
  },
  {
   "cell_type": "code",
   "execution_count": 6,
   "metadata": {},
   "outputs": [
    {
     "name": "stdout",
     "output_type": "stream",
     "text": [
      "('距离川沙公路较近,但是公交指示不对,如果是\"蔡陆线\"的话,会非常麻烦.建议用别的路线.房间较为简单.', 1)\n",
      "('商务大床房，房间很大，床有2M宽，整体感觉经济实惠不错!', 1)\n",
      "('早餐太差，无论去多少人，那边也不加食品的。酒店应该重视一下这个问题了。房间本身很好。', 1)\n",
      "('宾馆在小街道上，不大好找，但还好北京热心同胞很多~宾馆设施跟介绍的差不多，房间很小，确实挺小，但加上低价位因素，还是无超所值的；环境不错，就在小胡同内，安静整洁，暖气好足-_-||。。。呵还有一大优势就是从宾馆出发，步行不到十分钟就可以到梅兰芳故居等等，京味小胡同，北海距离好近呢。总之，不错。推荐给节约消费的自助游朋友~比较划算，附近特色小吃很多~', 1)\n",
      "('CBD中心,周围没什么店铺,说5星有点勉强.不知道为什么卫生间没有电吹风', 1)\n"
     ]
    }
   ],
   "source": [
    "dataset = MyDataset()\n",
    "for i in range(5):\n",
    "    print(dataset[i])"
   ]
  },
  {
   "cell_type": "markdown",
   "metadata": {},
   "source": [
    "### Step4 划分数据集"
   ]
  },
  {
   "cell_type": "code",
   "execution_count": 7,
   "metadata": {},
   "outputs": [],
   "source": [
    "from torch.utils.data import random_split"
   ]
  },
  {
   "cell_type": "code",
   "execution_count": 8,
   "metadata": {},
   "outputs": [],
   "source": [
    "trainset,validset = random_split(dataset,lengths=[0.9,0.1])"
   ]
  },
  {
   "cell_type": "code",
   "execution_count": 9,
   "metadata": {},
   "outputs": [
    {
     "data": {
      "text/plain": [
       "(6989, 776)"
      ]
     },
     "execution_count": 9,
     "metadata": {},
     "output_type": "execute_result"
    }
   ],
   "source": [
    "len(trainset),len(validset)"
   ]
  },
  {
   "cell_type": "code",
   "execution_count": 10,
   "metadata": {},
   "outputs": [
    {
     "name": "stdout",
     "output_type": "stream",
     "text": [
      "('总体来说，还不错。房间比较干净，服务也不错', 1) ('十次到常州九次会选择这里，朋友和同事到酒店看了后都说值，本来不想多说什么的，但这次发现了一个小问题，提出来希望酒店看到后可以改进。酒店早餐时间是7：30--9：30，我是9：05左右进入餐厅的，吃了一会儿发现服务人员开始把一些菜牌给撤了，结果我吃完饭喝咖啡的时候，由于没有提示把酸奶当作牛奶加入咖啡了，可想而知又酸又苦。这时候时间肯定没过9：30.希望服务员以后可以等全部结束再收拾。宾馆反馈2008年5月29日：尊敬的宾客：首先非常感谢您一直以来对酒店的支持以及提出的宝贵意见，由于我们的疏忽给您带来的不便，我们深表歉意。于此同时，我们也会积极整改。欢迎您再次入住！小提示：酒店的早餐时间是7：00--9：30', 1)\n",
      "('不错如果是欧美人士入住，那将是一个不错的选择因为酒店主要提供英语服务其他区亚裔地区的语言服务就没有可日本客人入住的话会很困扰', 1) ('位置非常接近浦展;然是二面路,但相,不有太多。服素一般,只是早餐相差,只有:吃或不吃', 1)\n",
      "('上周住了三天，酒店服务还不错，但感觉有些旧。在文昌阁那边见到几家经济型酒店，感觉比较气派。', 1) ('很不错，前台彬彬有礼，房间干净整洁，出门就是客运中心，走到美食林和休闲场所都很方便。注意，听当地人说报国寺的美食林东西整整是峨嵋市里美食林的两倍，我们逛了逛，服务也怪怪的，就到对面峨眉山大酒店的仙林小厨和避风港分别解决了肚子问题，毕竟那里看起来正规些。整个峨嵋景区的管理还是很好的，明码标价，服务也不错，值得推荐。', 1)\n",
      "('一流得酒店,一流得设施.服务在5星酒店算是二流,本人工作在4星假日酒店.对于酒店得服务做的并不是太好.经常发现不管是餐厅,还是前台得员工在聊天.不能尽快得给予客人服务.对于5星酒店得客户要求还是差的较远.竟然客房部敲门问什么时候可以打扫房间?每天基本都是,很无奈,只能离开酒店让他们打扫!态度实在不可恭维.PriorityClub之事,当时承诺1个月卡会寄存给客人,没有落实', 1) ('我买的是“亲子套票”。该酒店的硬件很好！房间的东西很新，而且很干净，不愧是国际品牌！对于楼下所说的那些抱怨问题，本人也碰到了。但都能很好地解决！在此建议大家在出发前多花点时间打电话和酒店预先沟通，就会减少麻烦！还能免费升级到行政楼层的海景房。', 1)\n",
      "('2007年9月11日256元住普通标间，临街（其它房型已无）。我是喜欢开着窗睡觉的，总体感觉不太吵。因为下面的玉皇阁北街不算是银川的主要交通要道。早上有一些车流声。对面有个农贸市场，购买应季瓜果很方便。离鼓楼不远，可以品尝一下“老毛抓肉”。', 1) ('酒店位子非常好，交通购物都很方便。我预定的是高级双床房，因为飞机晚点，到达宾馆后告知双床房已没有，不过免费为我们升级给了一个套房并还给11岁的儿子铺了一个加床，感觉很温馨的。房间蛮大，很干净。就是洗手间小了一点。49楼的旋转餐厅能看到上海的全景，很美，服务生的英语蛮流畅，服务也很到位。只是旋转餐厅的菜系比较少，让人很难选择。总体都不错，下次还会住这间酒店。', 1)\n",
      "('(1)房间卫生干净空间大!(2)早餐美味风富菜色多!', 1) ('我住的是大床房，房间很小，小到放不下太多行李。不过离地铁站的距离很近，但是由于崇文门地铁最近在大修封站了，所以地理上的优势基本体现不出来，路面交通比较拥堵，很不方便。酒店的服务也不是很好，早餐不能挂帐只能买早餐券，早餐券只卖当天的，要是想第二天早上省事，只能早起去前台买。洗手间很小；房间也打扫的不干净。虽然价格不贵，但是和同价位的如家、桔子比起来差太远了，以后不会再去住了。', 0)\n",
      "('3星的硬件,4星的外观,5星的服务房间设施比较陈旧,但服务非常的好,头一次碰到3星的酒店里任何一个服务人员见到你都会微笑问好的,如果设施再好些是个不错的酒店', 1) ('订的￥230普通间，先说不说房间设施一般，在前台的服务简直无法理解，站在接待处时，服务员将在我后面的3个人先办理（续房），但总有个先来后到吧，不理解。', 0)\n",
      "('太差,根本达不到5星标准,房间旧装修很久的了,桌子都是坏的,唯一的是宾馆里的环境还可以,标准间里就太糟糕了免费注册网站导航宾馆索引服务说明关于携程诚聘英才代理合作广告业务联系我们Copyright1999-2008,ctrip.com.allrightsreserved.', 0) ('酒店地点很好，海景房窗外的景色也很美。可以看到栈桥和小青岛，隔海就是沙滩。服务很体贴，很喜欢楼层的小零食吧。房间设置也很周到。虽然不大，但是个很好的度假酒店。美中不足，隔音设施不太好，遇到夜间大吵大闹的邻居，就比较惨了。', 1)\n",
      "('房间应该超出30平米,是HK同级酒店中少有的大;重装之后,设备也不错.房', 1) ('强烈建议CTRIP取消这个酒店的预定.本人5月2X日入住,当天晚上还没8点,就不断的有女人敲门,相信大家知道\"她\"是做什么的.这些也就算了,为', 0)\n",
      "('我感觉不行。。。性价比很差。不知道是银川都这样还是怎么的！', 0) ('大床房房间很好,住的很舒服;卫浴设备比较新不错,达到了三星标准;早餐不算太丰富,最好的就是很安静.周遍是最繁华的解放路和鼓楼等,方便出行.房间的宽带极', 1)\n"
     ]
    }
   ],
   "source": [
    "for i in range(10):\n",
    "    print(trainset[i],validset[i])"
   ]
  },
  {
   "cell_type": "markdown",
   "metadata": {},
   "source": [
    "### Step5 创建Dataloader"
   ]
  },
  {
   "cell_type": "markdown",
   "metadata": {},
   "source": [
    "#### 未使用collate_func"
   ]
  },
  {
   "cell_type": "code",
   "execution_count": 11,
   "metadata": {},
   "outputs": [],
   "source": [
    "from torch.utils.data import DataLoader\n",
    "\n",
    "trainloader = DataLoader(trainset, batch_size=32, shuffle=True)\n",
    "validloader = DataLoader(validset, batch_size=64, shuffle=False)"
   ]
  },
  {
   "cell_type": "code",
   "execution_count": 12,
   "metadata": {},
   "outputs": [
    {
     "data": {
      "text/plain": [
       "[('服务基本上没有！非常失望，其酒店的服务和周围的优雅环境很不相称...总而言之,非常失望,更不用谈性价比了.',\n",
       "  '国际饭店虽然挂牌3星，但是设施和服务差了一些，而且携程提供的价格不大有竞争力，在另外一个酒店：梅林大酒店住过两次，前台的价格就256，设施比国际要好不少。另外：邯郸现在有个赵王宾馆刚刚盖了新楼，是4星的，已经开始营业，住过一次，够4星标准，应该是邯郸目前最好的宾馆，标间前台的价格384，建议携程联系下。补充点评2008年5月7日：强力推荐赵王宾馆',\n",
       "  '酒店比较旧，靠近机场，能听到很大的噪音。而且早餐非常差，简直就是没东西吃。我再也不会住在这个酒店的。宾馆反馈2008年3月14日：尊敬的客人您好，非常感谢您的宝贵意见，对于您入住期间遇到的不愉快经历，我们深表歉意，以下是我们关于您的意见的反馈情况：1.关于您提到的噪音和酒店陈旧问题，由于酒店地处厦门主要干线-湖里大道西段，距离机场10分钟车程，这是酒店交通便利的主要优势。但随之而来的就是噪音问题。厦门联发集团于2007年5月份投入巨资对酒店重新进行装修，在隔音方面做了最大的改进和提高。酒店装修完工投入使用以来，未收到客人关于噪音的投诉。2.早餐：针对前几年团队为主的早餐，酒店在人员配备和早餐种类及数量都做了很大的改进，目前早餐包括了小菜、饮料、热菜、糕点、主食、沙拉等40多种菜品，能够满足各种客人的不同喜好。我们非常珍惜每一位客人的投诉，非常珍惜每次能为客人提供服务的机会。也许酒店方面现在还不能做到十全十美，但是我们一直在努力，希望您能再次光临丽轩酒店，感受到我们的改变。最后再次感谢您的意见和建议，因为正是有了您这样的客人，才使丽轩一直进步、不断完善。谢谢！',\n",
       "  '是一家非常不的酒店，物有所值，境非常好，前看我是2人一起去的，又送了一份免的早餐，定的候明只有一份的，人感。唯一不足的是生的淋浴房的玻璃好像不能，有水。',\n",
       "  '很破的宾馆和招待所差不多，服务也有问题多找钱还给她连声谢谢都不说气死我拉，早饭跟本不是人吃的，房间送餐送完了就没人来拿餐具了晕倒，点了一个红烧牛肉牛肉上都是淋巴都不敢吃而且要48元一份。只有网速很快能到2M，不过建议不要入住太差拉。',\n",
       "  '我觉得这是我在如家服务最好的酒店了..交通方便,就是不好订到房间,要住的朋友最好提前几天订哦',\n",
       "  '地理位置不错,房间对着中央大街,隔音玻璃还不错,街上的声音房间里听不到.需要提高的是卫生间里卫生纸的质量,实在太差.而且卫生纸快没了,也没有及时补充.早饭还不错,但橙汁是冲泡的,估计是果珍之类,而不是纯果汁.品种还算丰富.',\n",
       "  '普通标房居然不能看凤凰卫视台等境外节目,第一次感觉是不错的,早餐偏简',\n",
       "  '个人觉得比旁边的建国饭店大大的物超所值.也不分什么内宾价格和外宾价格.房间新装修的,很现代,不象建国饭店给人感觉又老又阴森.',\n",
       "  '这次是第3次去碧水湾泡温泉，不过是第一次选择住在度假村里，此次入住感觉真的很不错，就像携程介绍的，服务很注意细节，欢迎水果、功夫茶还有客房书桌上的书架都让人感觉很舒服。温泉也仍然保持了高水准的服务，这一点也很难得的，都好几年了，服务水平一点都没有下降，服务员的服务意识都很强，毛巾供应在人很多的时候都很充足（感觉这一点对泡温泉好重要的哦，毛巾不够会好冷的哦）。唯一美中不足的是大床房全部都是朝公路那边的，朝山景的那边只有双床房，订房的时候就发现这个问题了，但还是想要大床房，结果发现朝公路还是有少少噪音的。。要是酒店在两边都安排各种房型给客人多点选择就好了',\n",
       "  '性价比算可以的,除了房间水龙流的水少点,空调小点外,其他都还不错.',\n",
       "  '老酒店了，几近换主，目前还不错，尤其是价格太实惠了',\n",
       "  '虽然在火车站不远处，走对路10到15分钟，但位置比较不好找，如果不打车去基本得问两三人。打电话到酒店问路时发现接待员也对具体怎么到达不太清楚。位置比较偏，但是住九楼早上也会被车吵醒，也许仅仅和当地司机习惯按喇叭有关。房间比较大，但是地毯有污迹，和两星半的级数不符。楼下晚上有小食摊倒是挺方便。',\n",
       "  '只能说...恐怖...,特价房里面居然有两扇门，虽然大不太，但也让你睡不好...',\n",
       "  '单人间的价格物超所值.早餐不错.服务也好,很人性化.呵呵,第一次碰到卫生间马桶里撒花瓣的宾馆.不过酒店的洗浴中心,美容美发都在装修中不能使用.预定时没有提到.',\n",
       "  '服务员不热情,卫生设备有点老化,如莲蓬头的开关调节不灵.补充点评2008年5月27日：路边的车的声音很明显,可能是那两天在试工的原故.',\n",
       "  '酒店设施不差，只不过由于前身是一家烂尾楼改造的，整体太空旷，而且很多房间没有窗口，预订的时候需要特别注意。所谓的行政房绝对不能够去住，厕所和冲凉房是在一间房子内用玻璃隔开的，洗手盆居然就在床边，匪夷所思的布局，还居然是行政房。服务员素质极差，我通过携程预定，写明两个男人入住，居然只保留了一间单人床的房子，还坚称“携程没有说明要两张床”',\n",
       "  '环境地理位置很好，交通方便。房间舒适，服务很好',\n",
       "  '看到前面好坏参半的评价，定的时候还有点犹豫的。不过去到那里，觉得超值的。酒店有自己的码头，在厦门轮渡码头（面向大海的右手边）往前100米就可以看到，一进一出相当于绕鼓浪屿一周，住客单程3块，就这一点，已经加分了。酒店门口就是海滨浴场，在那里可以一直可以看到披着酒店大浴巾出去和湿漉漉回来的住客，让自己也忍不住有往大海纵身一跳的欲望。服务员也非常有礼貌，我们在他们中餐厅吃晚饭时，我们说怕有蚊子，服务员就主动拿来了蚊香，很贴心。中餐厅的菜也OK，白米饭很香哦。至于房间设施，不算豪华也不算新，但已够用，而且有个大阳台，站在那里看海吹风听涛，非常惬意。如果是喜欢游泳而且希望游完泳可以马上会自己房间洗澡的朋友，这里一定适合。酒店离龙头商圈较远（步行15分钟吧），但离日光岩和菽庄花园很近，所以酒店周围算是安静型的环境。我们下午到了先小睡一下，然后游泳，然后洗澡，在酒店吃饭，晚饭后就逛到龙头路，然后再慢慢从海边踱回酒店，一早起来在海边散步再游泳，觉的那怎一个安逸。这里绝对是我下次来鼓浪屿住的不二只选。',\n",
       "  '因为有了去年的经验，去之前我和酒店联系了一下，得知相比豪华商务间还是标准间相对安静，所以在携程更改了订单，携程方面处理得很快，马上和我取得了联系并了解了情况。酒店比我想象中要好，挺宽敞、挺干净的，服务人员素质不错。标间一大床、一小床，空调用的果然是大金，效果不错，噪音几乎没有，房间里的宽带是免费的，不过我不知道怎么连接：P值得一提的是房间还有跳窗：）另外，房间隔音还好，就是走廊来往的人声很吵，不过我凌晨2点睡下的，没影响。旁边有景江大厨不过我没去，就不评价了。关于交通方面，由于我是退房前电话叫的士的，所以没遇到什么不便。总之，270块钱能住成这样已经很满足了。',\n",
       "  '房间设施都好，尤其是豪华房内浴缸的上方还有镶在墙里面的电视很难得。',\n",
       "  '8月1日入住该酒店,对携程网的服务非常非常满意,安排的房间非常非常满意,住的行政海景房,房间很精致窗外的海景更是美不胜收,早餐也很丰富有一些小零食,很细心,很干净和价位相符的酒店,比海航要好多了,一点瑕疵就是打客服电话需要服务,反映过慢,',\n",
       "  '整体上还可以，早餐不太好，不值20元，晚上点菜做的口味一般。',\n",
       "  '整个酒店比较老款，不过酒店的客房设计非常摩登洁净，除了面积比较小（不管是行政楼层还是一般楼层，似乎都是一样的大小），其他均满意。',\n",
       "  '房间很一般，但服务员态度还不错。不过听说韶山还有比这个更好的酒店，但携程没有。免费注册网站导航宾馆索引服务说明关于携程诚聘英才代理合作广告业务联系我们Copyright1999-2008,ctrip.com.allrightsreserved.',\n",
       "  '感觉这个酒店很一般,隔音特别不好,窗户都不是中空玻璃的,又临者马路,相当吵人,一夜都睡不好,房间的隔断也挺次,旁边房间讲电话,这屋听',\n",
       "  '不错的酒店，服务很好，总台主管不仅帮我们做了免费升级，还亲自带我们上房间。房间很大，也很舒服，有很大的液晶显示屏，并且有免费饮料和小点心。刚进房间不久就有服务员泡来咖啡，尤其是离开的时候，服务员还帮我们拿了些饮料路上喝，并且还准备了两份报纸。总之来说，服务意识很强，让人感觉很贴心。很满意！唯一有点美中不足的是，有一间房电视信号不是很稳定，不是很清楚，希望能加以改善。下次还会选择入住这里。',\n",
       "  '买东西方便！不错的选择！大家也要选择',\n",
       "  '这次去金源他们的服务意识好象提高了,走进大堂会有人主动和我微笑,前台的态度也比原来热情了许多,感觉好点点了.原来啊,叫一个冷脸...也许以后会来的比较多,只是ctrip不提供含早餐的房间么?这点我觉得不够周到啊.房间这次住的是598的,似乎只是比498的楼层高点,其他再无任何区别.但事实上,金源头即使是同一层,他的房间有区别,有的我记得会大点,有的会小点,我是说即使价格一样的话,希望ctrip以后能向客人交代一下下.',\n",
       "  '不错的酒店，性价比不错，房间很大，不过卫生间有点老化，总的来说还是不错的，下次还会入住',\n",
       "  '服务态度不错。我住的是数码房，房间很宽敞，网速有点卡。建议以后在客人入住时即办理早餐券，避免早晨退房的和办早餐券的扎堆挤在一起。服务员忙得不可开交，客人们等得火冒三丈。宾馆反馈2008年7月16日：尊敬的宾客：您好！感谢您对酒店提出的宝贵意见。酒店今后会在高峰时间段适当的增加人手，以减少客人等待的时间，谢谢您对我们工作的理解和支持。',\n",
       "  '感觉非常一般，房间很脏，而且上网还要收费，好象是2.5元一个小时，极度不爽。往市内走一点，很多又便宜又好的酒店，大把，以后不会再住这个名不副实的酒店，建议携程不要将这类酒店登入，有损携程名誉。宾馆反馈2006年11月28日：非常感谢您的意见！酒店对此非常重视，特意针对此事召开紧急会议，并作出相关的处理。1.针对客人提出的房间较脏的问题，经过调查，客人入住的505房在洗手间门口地毯上确实有污垢，已对相关部门人员做出处罚。2.关于上网收费的信息，酒店已在携程网上有明显公布。收费标准为2.00元/小时。另外酒店将于2007年1月准备将部分楼层改为商务楼层，届时应该能满足商务客人的需求。'),\n",
       " tensor([0, 0, 0, 1, 0, 1, 1, 1, 1, 1, 1, 1, 0, 0, 1, 0, 0, 1, 1, 1, 1, 1, 1, 1,\n",
       "         1, 0, 1, 1, 1, 1, 1, 0])]"
      ]
     },
     "execution_count": 12,
     "metadata": {},
     "output_type": "execute_result"
    }
   ],
   "source": [
    "next(enumerate(trainloader))[1]"
   ]
  },
  {
   "cell_type": "markdown",
   "metadata": {},
   "source": [
    "#### 使用collate_func"
   ]
  },
  {
   "cell_type": "code",
   "execution_count": 26,
   "metadata": {},
   "outputs": [],
   "source": [
    "import torch\n",
    "tokenizer = AutoTokenizer.from_pretrained(\"./rbt3\")\n",
    "\n",
    "def collate_func(batch):\n",
    "    texts,labels = [],[]\n",
    "    for item in batch:\n",
    "        texts.append(item[0])\n",
    "        labels.append(item[1])\n",
    "    inputs = tokenizer(texts,max_length=128,truncation=True,padding=\"max_length\",return_tensors=\"pt\")  # 返回pytorch tensor格式\n",
    "    # inputs = tokenizer(texts,max_length=128,truncation=True,padding=\"max_length\")\n",
    "    inputs[\"labels\"] = torch.tensor(labels)\n",
    "    return inputs"
   ]
  },
  {
   "cell_type": "code",
   "execution_count": 28,
   "metadata": {},
   "outputs": [
    {
     "data": {
      "text/plain": [
       "{'input_ids': tensor([[ 101, 3315, 3613,  ..., 1961, 2769,  102],\n",
       "        [ 101, 6983, 2421,  ...,    0,    0,    0],\n",
       "        [ 101,  122,  510,  ...,  897, 8020,  102],\n",
       "        ...,\n",
       "        [ 101, 1372, 5543,  ...,    0,    0,    0],\n",
       "        [ 101, 6983, 2421,  ...,    0,    0,    0],\n",
       "        [ 101, 4692,  679,  ...,    0,    0,    0]]), 'token_type_ids': tensor([[0, 0, 0,  ..., 0, 0, 0],\n",
       "        [0, 0, 0,  ..., 0, 0, 0],\n",
       "        [0, 0, 0,  ..., 0, 0, 0],\n",
       "        ...,\n",
       "        [0, 0, 0,  ..., 0, 0, 0],\n",
       "        [0, 0, 0,  ..., 0, 0, 0],\n",
       "        [0, 0, 0,  ..., 0, 0, 0]]), 'attention_mask': tensor([[1, 1, 1,  ..., 1, 1, 1],\n",
       "        [1, 1, 1,  ..., 0, 0, 0],\n",
       "        [1, 1, 1,  ..., 1, 1, 1],\n",
       "        ...,\n",
       "        [1, 1, 1,  ..., 0, 0, 0],\n",
       "        [1, 1, 1,  ..., 0, 0, 0],\n",
       "        [1, 1, 1,  ..., 0, 0, 0]]), 'labels': tensor([0, 1, 1, 1, 1, 1, 0, 1, 0, 1, 1, 1, 0, 1, 1, 0, 1, 0, 1, 1, 1, 1, 1, 0,\n",
       "        1, 1, 1, 1, 1, 1, 0, 1, 1, 0, 0, 0, 1, 0, 0, 0, 1, 0, 1, 1, 1, 0, 1, 0,\n",
       "        0, 1, 1, 1, 1, 1, 1, 1, 1, 0, 0, 1, 1, 1, 1, 0])}"
      ]
     },
     "execution_count": 28,
     "metadata": {},
     "output_type": "execute_result"
    }
   ],
   "source": [
    "trainloader = DataLoader(trainset, batch_size=64, shuffle=True, collate_fn=collate_func)\n",
    "validloader = DataLoader(validset, batch_size=32, shuffle=False, collate_fn=collate_func)\n",
    "next(enumerate(trainloader))[1]"
   ]
  },
  {
   "cell_type": "markdown",
   "metadata": {},
   "source": [
    "### Step6 创建模型及优化器"
   ]
  },
  {
   "cell_type": "code",
   "execution_count": 40,
   "metadata": {},
   "outputs": [
    {
     "name": "stderr",
     "output_type": "stream",
     "text": [
      "Some weights of BertForSequenceClassification were not initialized from the model checkpoint at rbt3 and are newly initialized: ['classifier.bias', 'classifier.weight']\n",
      "You should probably TRAIN this model on a down-stream task to be able to use it for predictions and inference.\n"
     ]
    }
   ],
   "source": [
    "from torch.optim import Adam\n",
    "model = AutoModelForSequenceClassification.from_pretrained(\"rbt3\")\n",
    "\n",
    "if torch.cuda.is_available():\n",
    "    model = model.cuda()"
   ]
  },
  {
   "cell_type": "code",
   "execution_count": 44,
   "metadata": {},
   "outputs": [],
   "source": [
    "optimizer = Adam(model.parameters(), lr=2e-5)"
   ]
  },
  {
   "cell_type": "markdown",
   "metadata": {},
   "source": [
    "### Step7 训练与验证"
   ]
  },
  {
   "cell_type": "code",
   "execution_count": 49,
   "metadata": {},
   "outputs": [],
   "source": [
    "def evaluate():\n",
    "    model.eval()\n",
    "    acc_num = 0\n",
    "    with torch.inference_mode():\n",
    "        for batch in validloader:\n",
    "            if torch.cuda.is_available():\n",
    "                batch = {k: v.cuda() for k, v in batch.items()}\n",
    "            output = model(**batch)\n",
    "            pred = torch.argmax(output.logits, dim=-1)\n",
    "            acc_num += (pred.long() == batch[\"labels\"].long()).float().sum()\n",
    "    return acc_num / len(validset)\n",
    "\n",
    "\n",
    "def train(epoch=3, log_step=100):\n",
    "    global_step = 0\n",
    "    for ep in range(epoch):\n",
    "        model.train()\n",
    "        for batch in trainloader:\n",
    "            if torch.cuda.is_available():\n",
    "                batch = {k: v.cuda() for k, v in batch.items()}\n",
    "            optimizer.zero_grad()\n",
    "            output = model(**batch)\n",
    "            output.loss.backward()\n",
    "            optimizer.step()\n",
    "            if global_step % log_step == 0:\n",
    "                print(f\"ep: {ep}, global_step: {global_step}, loss: {output.loss.item()}\")\n",
    "            global_step += 1\n",
    "        acc = evaluate()\n",
    "        print(f\"ep: {ep}, acc: {acc}\")"
   ]
  },
  {
   "cell_type": "code",
   "execution_count": 50,
   "metadata": {},
   "outputs": [
    {
     "name": "stderr",
     "output_type": "stream",
     "text": [
      "d:\\Anaconda3\\envs\\llm\\lib\\site-packages\\transformers\\models\\bert\\modeling_bert.py:439: UserWarning: 1Torch was not compiled with flash attention. (Triggered internally at ..\\aten\\src\\ATen\\native\\transformers\\cuda\\sdp_utils.cpp:455.)\n",
      "  attn_output = torch.nn.functional.scaled_dot_product_attention(\n"
     ]
    },
    {
     "name": "stdout",
     "output_type": "stream",
     "text": [
      "ep: 0, global_step: 0, loss: 0.6566935777664185\n",
      "ep: 0, global_step: 100, loss: 0.39207786321640015\n",
      "ep: 0, global_step: 200, loss: 0.255473792552948\n",
      "ep: 0, acc: 0.8917525410652161\n",
      "ep: 1, global_step: 300, loss: 0.1308319866657257\n",
      "ep: 1, global_step: 400, loss: 0.09422533214092255\n",
      "ep: 1, acc: 0.8994845151901245\n",
      "ep: 2, global_step: 500, loss: 0.33339324593544006\n",
      "ep: 2, global_step: 600, loss: 0.2502152919769287\n",
      "ep: 2, acc: 0.8969072103500366\n"
     ]
    }
   ],
   "source": [
    "train()"
   ]
  },
  {
   "cell_type": "markdown",
   "metadata": {},
   "source": [
    "### Step9 模型预测"
   ]
  },
  {
   "cell_type": "code",
   "execution_count": 64,
   "metadata": {},
   "outputs": [
    {
     "name": "stdout",
     "output_type": "stream",
     "text": [
      "输入：我觉得这家酒店不错，饭很好吃！\n",
      "模型预测结果:好评！\n",
      "Score:0.9874188303947449\n"
     ]
    }
   ],
   "source": [
    "sen = \"我觉得这家酒店不错，饭很好吃！\"\n",
    "id2_label = {0: \"差评！\", 1: \"好评！\"}\n",
    "model.eval()\n",
    "with torch.inference_mode():\n",
    "    inputs = tokenizer(sen, return_tensors=\"pt\")\n",
    "    inputs = {k: v.cuda() for k, v in inputs.items()}\n",
    "    logits = model(**inputs).logits\n",
    "    pred = torch.argmax(logits, dim=-1)\n",
    "    score = torch.softmax(logits, dim=-1)\n",
    "    print(f\"输入：{sen}\\n模型预测结果:{id2_label.get(pred.item())}\\nScore:{score[0][pred.item()]}\")"
   ]
  },
  {
   "cell_type": "code",
   "execution_count": 65,
   "metadata": {},
   "outputs": [],
   "source": [
    "from transformers import pipeline\n",
    "\n",
    "model.config.id2label = id2_label\n",
    "pipe = pipeline(\"text-classification\", model=model, tokenizer=tokenizer, device=0)"
   ]
  },
  {
   "cell_type": "code",
   "execution_count": 56,
   "metadata": {},
   "outputs": [
    {
     "data": {
      "text/plain": [
       "[{'label': '好评！', 'score': 0.9874188303947449}]"
      ]
     },
     "execution_count": 56,
     "metadata": {},
     "output_type": "execute_result"
    }
   ],
   "source": [
    "pipe(sen)"
   ]
  },
  {
   "cell_type": "code",
   "execution_count": null,
   "metadata": {},
   "outputs": [],
   "source": []
  }
 ],
 "metadata": {
  "kernelspec": {
   "display_name": "llm",
   "language": "python",
   "name": "python3"
  },
  "language_info": {
   "codemirror_mode": {
    "name": "ipython",
    "version": 3
   },
   "file_extension": ".py",
   "mimetype": "text/x-python",
   "name": "python",
   "nbconvert_exporter": "python",
   "pygments_lexer": "ipython3",
   "version": "3.10.14"
  }
 },
 "nbformat": 4,
 "nbformat_minor": 2
}
